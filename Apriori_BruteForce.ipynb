{
 "cells": [
  {
   "cell_type": "markdown",
   "id": "ccd9e1a6-370d-4660-88e9-f9b1034724b0",
   "metadata": {},
   "source": [
    "# Apriori Algorithm Brute-force Approach"
   ]
  },
  {
   "cell_type": "code",
   "execution_count": 903,
   "id": "a389a51b-11d2-40db-a490-5f58d52a7d15",
   "metadata": {},
   "outputs": [],
   "source": [
    "from itertools import combinations\n",
    "import csv\n",
    "import pandas as pd\n",
    "import time"
   ]
  },
  {
   "cell_type": "code",
   "execution_count": 904,
   "id": "4e8df59e-56c2-46c3-9ce1-414808150add",
   "metadata": {},
   "outputs": [],
   "source": [
    "def countof_itemsets(split_transaction_list):\n",
    "    total_transactions = len(split_transaction_list)\n",
    "    counts = dict()\n",
    "    \n",
    "    for tritem in split_transaction_list:\n",
    "        for item in tritem:\n",
    "            if item not in counts:\n",
    "                counts[item] = 1\n",
    "            else:\n",
    "                counts[item] += 1\n",
    "    \n",
    "    return counts, total_transactions"
   ]
  },
  {
   "cell_type": "code",
   "execution_count": 905,
   "id": "43c6f51b-2c0b-43d9-8797-1decf2c581cb",
   "metadata": {},
   "outputs": [],
   "source": [
    "def check_support(counts, total_transactions, min_support, frequent_items):\n",
    "    support = dict()\n",
    "    freq_list = list()\n",
    "    \n",
    "    for item, count in counts.items():\n",
    "        support[item] = count / total_transactions\n",
    "\n",
    "    for item, sup in support.items():\n",
    "        if sup >= min_support:\n",
    "            frequent_items.update({item : sup})\n",
    "            freq_list.append(item)\n",
    "\n",
    "    return frequent_items, freq_list"
   ]
  },
  {
   "cell_type": "code",
   "execution_count": 906,
   "id": "ef35f3b6-ad38-463e-bfa8-0eb40e401a45",
   "metadata": {},
   "outputs": [],
   "source": [
    "def get_combinations(freq_list, frequent_items, split_transaction_list, total_transactions, min_support, length):\n",
    "    combi_counts = dict()  \n",
    "\n",
    "    if freq_list:\n",
    "        combi = list(combinations(freq_list, length))  \n",
    "        \n",
    "        for tritem in split_transaction_list:\n",
    "            for comb in combi:\n",
    "                if set(comb).issubset(tritem):\n",
    "                    if comb not in combi_counts:\n",
    "                        combi_counts[comb] = 1\n",
    "                    else:\n",
    "                        combi_counts[comb] += 1\n",
    "    \n",
    "    next_frequent_items = frequent_items\n",
    "    next_freq_list = list()\n",
    "    if combi_counts:                   \n",
    "        next_frequent_items, next_freq_list = check_support(combi_counts, total_transactions, min_support, frequent_items)\n",
    "\n",
    "    if next_freq_list:\n",
    "        get_combinations(freq_list, frequent_items, split_transaction_list, total_transactions, min_support, length+1)\n",
    "\n",
    "    return next_frequent_items, next_freq_list"
   ]
  },
  {
   "cell_type": "code",
   "execution_count": 907,
   "id": "a3f0bb5e-239f-4486-90f6-8e41cebfc926",
   "metadata": {},
   "outputs": [],
   "source": [
    "def generate_association_rules(next_frequent_items, min_confidence):\n",
    "    rules = []\n",
    "    \n",
    "    for itemset in next_frequent_items:\n",
    "        if isinstance(itemset, tuple) and len(itemset) > 1:\n",
    "            for i in range(1, len(itemset)):\n",
    "                subsets = list(combinations(itemset, i))\n",
    "                for subset in subsets:\n",
    "                    antecedent = subset\n",
    "                    consequent = tuple(set(itemset) - set(subset))\n",
    "                    if len(consequent) > 0:\n",
    "                        if len(antecedent) == 1:\n",
    "                            antecedent_support = next_frequent_items[antecedent[0]]\n",
    "                        else:\n",
    "                            antecedent_support = next_frequent_items[antecedent]\n",
    "                        itemset_support = next_frequent_items[itemset]\n",
    "                        confidence = itemset_support / antecedent_support\n",
    "                        if confidence >= min_confidence:\n",
    "                            rules.append((antecedent, consequent, itemset_support, confidence))\n",
    "    \n",
    "    return rules"
   ]
  },
  {
   "cell_type": "code",
   "execution_count": 908,
   "id": "b69001dc-3343-4b4e-b137-a3f1f5b34804",
   "metadata": {},
   "outputs": [],
   "source": [
    "def select_amazon():\n",
    "    print(\"The store you selected is Amazon\")\n",
    "    file_name = \"amazon_transactions.csv\"\n",
    "    df = pd.read_csv(file_name, usecols=[\"Item Name\"])\n",
    "    item_list = df[\"Item Name\"].tolist()\n",
    "    cleaned_item_list = [item for item in item_list if pd.notna(item)]\n",
    "\n",
    "    df = pd.read_csv(file_name, usecols=[\"Transaction\"])\n",
    "    transaction_list = df[\"Transaction\"].tolist()\n",
    "    split_transaction_list = [transaction.split(', ') for transaction in transaction_list]\n",
    "\n",
    "    return cleaned_item_list, split_transaction_list"
   ]
  },
  {
   "cell_type": "code",
   "execution_count": 909,
   "id": "3b485ef5-1d8f-4651-9603-757b55068363",
   "metadata": {},
   "outputs": [],
   "source": [
    "def select_bestbuy():\n",
    "    print(\"The store you selected is Best Buy\")\n",
    "    file_name = \"bestbuy_transactions.csv\"\n",
    "    df = pd.read_csv(file_name, usecols=[\"Item Name\"])\n",
    "    item_list = df[\"Item Name\"].tolist()\n",
    "    cleaned_item_list = [item for item in item_list if pd.notna(item)]\n",
    "\n",
    "    df = pd.read_csv(file_name, usecols=[\"Transaction\"])\n",
    "    transaction_list = df[\"Transaction\"].tolist()\n",
    "    split_transaction_list = [transaction.split(', ') for transaction in transaction_list]\n",
    "\n",
    "    return cleaned_item_list, split_transaction_list"
   ]
  },
  {
   "cell_type": "code",
   "execution_count": 910,
   "id": "f99100b9-0351-428b-9adf-e764c0641e11",
   "metadata": {},
   "outputs": [],
   "source": [
    "def select_nike():\n",
    "    print(\"The store you selected is Nike\")\n",
    "    file_name = \"nike_transactions.csv\"\n",
    "    df = pd.read_csv(file_name, usecols=[\"Item Name\"])\n",
    "    item_list = df[\"Item Name\"].tolist()\n",
    "    cleaned_item_list = [item for item in item_list if pd.notna(item)]\n",
    "\n",
    "    df = pd.read_csv(file_name, usecols=[\"Transaction\"])\n",
    "    transaction_list = df[\"Transaction\"].tolist()\n",
    "    split_transaction_list = [transaction.split(', ') for transaction in transaction_list]\n",
    "\n",
    "    return cleaned_item_list, split_transaction_list"
   ]
  },
  {
   "cell_type": "code",
   "execution_count": 911,
   "id": "2a12de74-2b39-484e-bf99-4668e74c433c",
   "metadata": {},
   "outputs": [],
   "source": [
    "def select_kmart():\n",
    "    print(\"The store you selected is KMart\")\n",
    "    file_name = \"kmart_transactions.csv\"\n",
    "    df = pd.read_csv(file_name, usecols=[\"Item Name\"])\n",
    "    item_list = df[\"Item Name\"].tolist()\n",
    "    cleaned_item_list = [item for item in item_list if pd.notna(item)]\n",
    "\n",
    "    df = pd.read_csv(file_name, usecols=[\"Transaction\"])\n",
    "    transaction_list = df[\"Transaction\"].tolist()\n",
    "    split_transaction_list = [transaction.split(', ') for transaction in transaction_list]\n",
    "\n",
    "    return cleaned_item_list, split_transaction_list"
   ]
  },
  {
   "cell_type": "code",
   "execution_count": 912,
   "id": "14c1ff16-7e7d-4d70-8699-d152a92ea7b3",
   "metadata": {},
   "outputs": [],
   "source": [
    "def select_homedepot():\n",
    "    print(\"The store you selected is Home Depot\")\n",
    "    file_name = \"homedepot_transactions.csv\"\n",
    "    df = pd.read_csv(file_name, usecols=[\"Item Name\"])\n",
    "    item_list = df[\"Item Name\"].tolist()\n",
    "    cleaned_item_list = [item for item in item_list if pd.notna(item)]\n",
    "\n",
    "    df = pd.read_csv(file_name, usecols=[\"Transaction\"])\n",
    "    transaction_list = df[\"Transaction\"].tolist()\n",
    "    split_transaction_list = [transaction.split(', ') for transaction in transaction_list]\n",
    "\n",
    "    return cleaned_item_list, split_transaction_list"
   ]
  },
  {
   "cell_type": "code",
   "execution_count": 916,
   "id": "f19e984f-3f81-42cd-acdd-6d81183c66ac",
   "metadata": {},
   "outputs": [
    {
     "name": "stdout",
     "output_type": "stream",
     "text": [
      "Please select the store\n",
      "1. Amazon\n",
      "2. Best Buy\n",
      "3. Nike\n",
      "4. KMart\n",
      "5. Home Depot\n",
      "6. Exit\n"
     ]
    },
    {
     "name": "stdin",
     "output_type": "stream",
     "text": [
      "Enter your choice:  5\n"
     ]
    },
    {
     "name": "stdout",
     "output_type": "stream",
     "text": [
      "The store you selected is Home Depot\n"
     ]
    },
    {
     "name": "stdin",
     "output_type": "stream",
     "text": [
      "Enter minimum support in the range 0 to 1: 0.4\n",
      "Enter minimum confidence in the range 0 to 1: 0.5\n"
     ]
    },
    {
     "name": "stdout",
     "output_type": "stream",
     "text": [
      "\n",
      "FREQUENT ITEMSETS:\n",
      "\n",
      "Hand Saw: 0.65\n",
      "\n",
      "Tool Box: 0.4\n",
      "\n",
      "Caulk Gun: 0.4\n",
      "\n",
      "Power Drill: 0.6\n",
      "\n",
      "Circular Saw: 0.55\n",
      "\n",
      "LED Bulb: 0.45\n",
      "\n",
      "Paint Brush: 0.45\n",
      "\n",
      "Garden Hose: 0.4\n",
      "\n",
      "Grout Sealer: 0.4\n",
      "\n",
      "('Hand Saw', 'Circular Saw'): 0.4\n",
      "\n",
      "\n",
      "ASSOCIATION RULES:\n",
      "\n",
      "('Hand Saw',) => ('Circular Saw',) (support: 0.40)(confidence: 0.62)\n",
      "\n",
      "('Circular Saw',) => ('Hand Saw',) (support: 0.40)(confidence: 0.73)\n",
      "\n",
      "Total execution time: 9.9481 seconds\n"
     ]
    }
   ],
   "source": [
    "start_time = time.perf_counter()\n",
    "def main():\n",
    "    while True:\n",
    "        print(\"Please select the store\")\n",
    "        print(\"1. Amazon\")\n",
    "        print(\"2. Best Buy\")\n",
    "        print(\"3. Nike\")\n",
    "        print(\"4. KMart\")\n",
    "        print(\"5. Home Depot\")\n",
    "        print(\"6. Exit\")\n",
    "        choice = input(\"Enter your choice: \")\n",
    "\n",
    "        if choice == '1':\n",
    "            cleaned_item_list, split_transaction_list = select_amazon()\n",
    "            break \n",
    "        elif choice == '2':\n",
    "            cleaned_item_list, split_transaction_list = select_bestbuy()\n",
    "            break\n",
    "        elif choice == '3':\n",
    "            cleaned_item_list, split_transaction_list = select_nike()\n",
    "            break\n",
    "        elif choice == '4':\n",
    "            cleaned_item_list, split_transaction_list = select_kmart()\n",
    "            break\n",
    "        elif choice == '5':\n",
    "            cleaned_item_list, split_transaction_list = select_homedepot()\n",
    "            break\n",
    "        elif choice == '6':\n",
    "            print(\"Exiting the program.\")\n",
    "            return\n",
    "        else:\n",
    "            print(\"Invalid Choice. Please try again.\")\n",
    "\n",
    "    if choice in ['1', '2', '3', '4', '5']:\n",
    "        min_support = float(input(\"Enter minimum support in the range 0 to 1:\"))\n",
    "        min_confidence = float(input(\"Enter minimum confidence in the range 0 to 1:\"))\n",
    "        if min_support > 1 and min_confidence > 1:\n",
    "            min_support = min_confidence = 1\n",
    "        elif min_support <= 0 and min_confidence <= 0:\n",
    "            min_support = min_confidence = 0.1\n",
    "\n",
    "    frequent_items = dict()\n",
    "    \n",
    "    counts, total_transactions = countof_itemsets(split_transaction_list)\n",
    "    frequent_items, freq_list = check_support(counts, total_transactions, min_support, frequent_items)\n",
    "    next_frequent_items, next_freq_list = get_combinations(freq_list, frequent_items, split_transaction_list, total_transactions, min_support, length=2)\n",
    "\n",
    "    print(\"\\nFREQUENT ITEMSETS:\\n\")\n",
    "    for itemset, support in next_frequent_items.items():\n",
    "        print(f\"{itemset}: {support}\\n\")\n",
    "\n",
    "    rules = generate_association_rules(next_frequent_items, min_confidence)\n",
    "    \n",
    "    print(\"\\nASSOCIATION RULES:\")\n",
    "    for antecedent, consequent, support, confidence in rules:\n",
    "        print(f\"\\n{antecedent} => {consequent} (support: {support:.2f})(confidence: {confidence:.2f})\")\n",
    "\n",
    "main()\n",
    "\n",
    "end_time = time.perf_counter()\n",
    "elapsed_time = end_time - start_time\n",
    "print(f\"\\nTotal execution time: {elapsed_time:.4f} seconds\")"
   ]
  },
  {
   "cell_type": "code",
   "execution_count": null,
   "id": "66f8143c-c248-4074-b154-835cc3210237",
   "metadata": {},
   "outputs": [],
   "source": []
  }
 ],
 "metadata": {
  "kernelspec": {
   "display_name": "Python 3 (ipykernel)",
   "language": "python",
   "name": "python3"
  },
  "language_info": {
   "codemirror_mode": {
    "name": "ipython",
    "version": 3
   },
   "file_extension": ".py",
   "mimetype": "text/x-python",
   "name": "python",
   "nbconvert_exporter": "python",
   "pygments_lexer": "ipython3",
   "version": "3.11.4"
  }
 },
 "nbformat": 4,
 "nbformat_minor": 5
}
